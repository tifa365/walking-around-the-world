{
 "metadata": {
  "language_info": {
   "codemirror_mode": {
    "name": "ipython",
    "version": 3
   },
   "file_extension": ".py",
   "mimetype": "text/x-python",
   "name": "python",
   "nbconvert_exporter": "python",
   "pygments_lexer": "ipython3",
   "version": "3.9.1"
  },
  "orig_nbformat": 2,
  "kernelspec": {
   "name": "python391jvsc74a57bd063fd5069d213b44bf678585dea6b12cceca9941eaf7f819626cde1f2670de90d",
   "display_name": "Python 3.9.1 64-bit"
  },
  "metadata": {
   "interpreter": {
    "hash": "63fd5069d213b44bf678585dea6b12cceca9941eaf7f819626cde1f2670de90d"
   }
  }
 },
 "nbformat": 4,
 "nbformat_minor": 2,
 "cells": [
  {
   "cell_type": "code",
   "execution_count": 1,
   "metadata": {},
   "outputs": [],
   "source": [
    "from pykml import parser\n",
    "from lxml import etree as ET\n",
    "import pandas as pd"
   ]
  },
  {
   "cell_type": "code",
   "execution_count": 2,
   "metadata": {},
   "outputs": [],
   "source": [
    "#klappt nicht\n",
    "with open(\"video_walks.kml\", 'r',  encoding='utf-8') as f:\n",
    "     ml = parser.parse(f)\n",
    "     root = ml.getroot()\n",
    "\n",
    "#<Element {http://www.opengis.net/kml/2.2}kml at 0x1898c94ec80>"
   ]
  },
  {
   "cell_type": "code",
   "execution_count": 89,
   "metadata": {},
   "outputs": [],
   "source": [
    "\n",
    "#urls = root.findall(\".//{http://www.opengis.net/kml/2.2}value\")\n",
    "#coordinates = list(root.findall(\".//{http://www.opengis.net/kml/2.2}coordinates\"))\n",
    "#video_title = list(root.findall(\".//{http://www.opengis.net/kml/2.2}Placemark/{http://www.opengis.net/kml/2.2}name\")) "
   ]
  },
  {
   "cell_type": "code",
   "execution_count": 6,
   "metadata": {},
   "outputs": [
    {
     "output_type": "execute_result",
     "data": {
      "text/plain": [
       "752"
      ]
     },
     "metadata": {},
     "execution_count": 6
    }
   ],
   "source": [
    "video_title = []\n",
    "\n",
    "for a in root.findall(\".//{http://www.opengis.net/kml/2.2}Placemark/{http://www.opengis.net/kml/2.2}name\"):\n",
    "    video_title.append(str(a))\n",
    "\n",
    "len(video_title)"
   ]
  },
  {
   "cell_type": "code",
   "execution_count": 5,
   "metadata": {
    "tags": []
   },
   "outputs": [
    {
     "output_type": "execute_result",
     "data": {
      "text/plain": [
       "752"
      ]
     },
     "metadata": {},
     "execution_count": 5
    }
   ],
   "source": [
    "coordinates = []\n",
    "\n",
    "for u in root.findall(\".//{http://www.opengis.net/kml/2.2}coordinates\"):\n",
    "    c = u.text\n",
    "    d = c.split(\"            \")[1]\n",
    "    e = d.split(\",\")[0:2]\n",
    "    coordinates.append(e)\n",
    "\n",
    "len(coordinates)"
   ]
  },
  {
   "cell_type": "code",
   "execution_count": 7,
   "metadata": {},
   "outputs": [
    {
     "output_type": "execute_result",
     "data": {
      "text/plain": [
       "752"
      ]
     },
     "metadata": {},
     "execution_count": 7
    }
   ],
   "source": [
    " urls = []\n",
    " for i in root.findall(\".//{http://www.opengis.net/kml/2.2}value\"):\n",
    "     urls.append(str(i))\n",
    "\n",
    "len(urls)"
   ]
  },
  {
   "cell_type": "code",
   "execution_count": 12,
   "metadata": {},
   "outputs": [],
   "source": [
    "#alles in einem dataframe kombinieren\n",
    "df = pd.DataFrame(list(zip(urls, coordinates, video_title)), \n",
    "               columns =['video_url', 'lat/lon', 'video_title']) "
   ]
  },
  {
   "cell_type": "code",
   "execution_count": 16,
   "metadata": {},
   "outputs": [
    {
     "output_type": "execute_result",
     "data": {
      "text/plain": [
       "(752, 3)"
      ]
     },
     "metadata": {},
     "execution_count": 16
    }
   ],
   "source": [
    "df.shape"
   ]
  },
  {
   "cell_type": "code",
   "execution_count": 145,
   "metadata": {},
   "outputs": [
    {
     "output_type": "execute_result",
     "data": {
      "text/plain": [
       "                                   video_url                    lat/lon  \\\n",
       "0  https://www.youtube.com/embed/1VyCvBHW7_Q  [119.4262061, 32.1899073]   \n",
       "1  https://www.youtube.com/embed/5NcL90BlNks     [120.31191, 31.491169]   \n",
       "\n",
       "                                         video_title  \n",
       "0  Cyberpunk Night Walk through Streets of Chines...  \n",
       "1   Nachtwanderung in der Innenstadt von Wuxi, China  "
      ],
      "text/html": "<div>\n<style scoped>\n    .dataframe tbody tr th:only-of-type {\n        vertical-align: middle;\n    }\n\n    .dataframe tbody tr th {\n        vertical-align: top;\n    }\n\n    .dataframe thead th {\n        text-align: right;\n    }\n</style>\n<table border=\"1\" class=\"dataframe\">\n  <thead>\n    <tr style=\"text-align: right;\">\n      <th></th>\n      <th>video_url</th>\n      <th>lat/lon</th>\n      <th>video_title</th>\n    </tr>\n  </thead>\n  <tbody>\n    <tr>\n      <th>0</th>\n      <td>https://www.youtube.com/embed/1VyCvBHW7_Q</td>\n      <td>[119.4262061, 32.1899073]</td>\n      <td>Cyberpunk Night Walk through Streets of Chines...</td>\n    </tr>\n    <tr>\n      <th>1</th>\n      <td>https://www.youtube.com/embed/5NcL90BlNks</td>\n      <td>[120.31191, 31.491169]</td>\n      <td>Nachtwanderung in der Innenstadt von Wuxi, China</td>\n    </tr>\n  </tbody>\n</table>\n</div>"
     },
     "metadata": {},
     "execution_count": 145
    }
   ],
   "source": [
    "df.head(2)"
   ]
  },
  {
   "cell_type": "code",
   "execution_count": 19,
   "metadata": {},
   "outputs": [
    {
     "output_type": "execute_result",
     "data": {
      "text/plain": [
       "['#icon-1522-7CB342-normal',\n",
       " '#icon-1522-7CB342-highlight',\n",
       " '#icon-1522-9C27B0-normal',\n",
       " '#icon-1522-9C27B0-highlight',\n",
       " '#icon-1569-9C27B0-normal']"
      ]
     },
     "metadata": {},
     "execution_count": 19
    }
   ],
   "source": [
    "# country_type = root.findall(\".//{http://www.opengis.net/kml/2.2}styleUrl\")\n",
    "# len(country_type) #ist zu groß oder oben fehlen Werte\n",
    "# country_type[0:5]"
   ]
  },
  {
   "cell_type": "code",
   "execution_count": 25,
   "metadata": {},
   "outputs": [],
   "source": [
    "#seems useless, just html-code\n",
    "#descriptions = root.findall(\".//{http://www.opengis.net/kml/2.2}description\") \n"
   ]
  },
  {
   "cell_type": "code",
   "execution_count": 47,
   "metadata": {},
   "outputs": [
    {
     "output_type": "execute_result",
     "data": {
      "text/plain": [
       "['https://www.youtube.com/embed/1VyCvBHW7_Q']"
      ]
     },
     "metadata": {},
     "execution_count": 47
    }
   ],
   "source": [
    "root.findall(\".//{http://www.opengis.net/kml/2.2}value\")[0:1]"
   ]
  },
  {
   "cell_type": "code",
   "execution_count": 24,
   "metadata": {},
   "outputs": [],
   "source": [
    "#root.findall(\".//{http://www.opengis.net/kml/2.2}coordinates\")"
   ]
  },
  {
   "cell_type": "code",
   "execution_count": 49,
   "metadata": {},
   "outputs": [
    {
     "output_type": "execute_result",
     "data": {
      "text/plain": [
       "['Cyberpunk Night Walk through Streets of Chinese City (Zhenjiang, China)']"
      ]
     },
     "metadata": {},
     "execution_count": 49
    }
   ],
   "source": [
    "root.findall(\".//{http://www.opengis.net/kml/2.2}Placemark/\")[0:1]"
   ]
  },
  {
   "cell_type": "code",
   "execution_count": 117,
   "metadata": {
    "tags": []
   },
   "outputs": [
    {
     "output_type": "stream",
     "name": "stdout",
     "text": [
      "ta\n",
      "{http://www.opengis.net/kml/2.2}Data\n",
      "{http://www.opengis.net/kml/2.2}value\n",
      "{http://www.opengis.net/kml/2.2}Point\n",
      "{http://www.opengis.net/kml/2.2}coordinates\n",
      "{http://www.opengis.net/kml/2.2}Placemark\n",
      "{http://www.opengis.net/kml/2.2}name\n",
      "{http://www.opengis.net/kml/2.2}description\n",
      "{http://www.opengis.net/kml/2.2}styleUrl\n",
      "{http://www.opengis.net/kml/2.2}ExtendedData\n",
      "{http://www.opengis.net/kml/2.2}Data\n",
      "{http://www.opengis.net/kml/2.2}value\n",
      "{http://www.opengis.net/kml/2.2}Point\n",
      "{http://www.opengis.net/kml/2.2}coordinates\n",
      "{http://www.opengis.net/kml/2.2}Placemark\n",
      "{http://www.opengis.net/kml/2.2}name\n",
      "{http://www.opengis.net/kml/2.2}description\n",
      "{http://www.opengis.net/kml/2.2}styleUrl\n",
      "{http://www.opengis.net/kml/2.2}ExtendedData\n",
      "{http://www.opengis.net/kml/2.2}Data\n",
      "{http://www.opengis.net/kml/2.2}value\n",
      "{http://www.opengis.net/kml/2.2}Point\n",
      "{http://www.opengis.net/kml/2.2}coordinates\n",
      "{http://www.opengis.net/kml/2.2}Placemark\n",
      "{http://www.opengis.net/kml/2.2}name\n",
      "{http://www.opengis.net/kml/2.2}description\n",
      "{http://www.opengis.net/kml/2.2}styleUrl\n",
      "{http://www.opengis.net/kml/2.2}ExtendedData\n",
      "{http://www.opengis.net/kml/2.2}Data\n",
      "{http://www.opengis.net/kml/2.2}value\n",
      "{http://www.opengis.net/kml/2.2}Point\n",
      "{http://www.opengis.net/kml/2.2}coordinates\n",
      "{http://www.opengis.net/kml/2.2}Placemark\n",
      "{http://www.opengis.net/kml/2.2}name\n",
      "{http://www.opengis.net/kml/2.2}description\n",
      "{http://www.opengis.net/kml/2.2}styleUrl\n",
      "{http://www.opengis.net/kml/2.2}ExtendedData\n",
      "{http://www.opengis.net/kml/2.2}Data\n",
      "{http://www.opengis.net/kml/2.2}value\n",
      "{http://www.opengis.net/kml/2.2}Point\n",
      "{http://www.opengis.net/kml/2.2}coordinates\n",
      "{http://www.opengis.net/kml/2.2}Placemark\n",
      "{http://www.opengis.net/kml/2.2}name\n",
      "{http://www.opengis.net/kml/2.2}description\n",
      "{http://www.opengis.net/kml/2.2}styleUrl\n",
      "{http://www.opengis.net/kml/2.2}ExtendedData\n",
      "{http://www.opengis.net/kml/2.2}Data\n",
      "{http://www.opengis.net/kml/2.2}value\n",
      "{http://www.opengis.net/kml/2.2}Point\n",
      "{http://www.opengis.net/kml/2.2}coordinates\n",
      "{http://www.opengis.net/kml/2.2}Placemark\n",
      "{http://www.opengis.net/kml/2.2}name\n",
      "{http://www.opengis.net/kml/2.2}description\n",
      "{http://www.opengis.net/kml/2.2}styleUrl\n",
      "{http://www.opengis.net/kml/2.2}ExtendedData\n",
      "{http://www.opengis.net/kml/2.2}Data\n",
      "{http://www.opengis.net/kml/2.2}value\n",
      "{http://www.opengis.net/kml/2.2}Point\n",
      "{http://www.opengis.net/kml/2.2}coordinates\n",
      "{http://www.opengis.net/kml/2.2}Placemark\n",
      "{http://www.opengis.net/kml/2.2}name\n",
      "{http://www.opengis.net/kml/2.2}description\n",
      "{http://www.opengis.net/kml/2.2}styleUrl\n",
      "{http://www.opengis.net/kml/2.2}ExtendedData\n",
      "{http://www.opengis.net/kml/2.2}Data\n",
      "{http://www.opengis.net/kml/2.2}value\n",
      "{http://www.opengis.net/kml/2.2}Point\n",
      "{http://www.opengis.net/kml/2.2}coordinates\n",
      "{http://www.opengis.net/kml/2.2}Placemark\n",
      "{http://www.opengis.net/kml/2.2}name\n",
      "{http://www.opengis.net/kml/2.2}description\n",
      "{http://www.opengis.net/kml/2.2}styleUrl\n",
      "{http://www.opengis.net/kml/2.2}ExtendedData\n",
      "{http://www.opengis.net/kml/2.2}Data\n",
      "{http://www.opengis.net/kml/2.2}value\n",
      "{http://www.opengis.net/kml/2.2}Point\n",
      "{http://www.opengis.net/kml/2.2}coordinates\n",
      "{http://www.opengis.net/kml/2.2}Placemark\n",
      "{http://www.opengis.net/kml/2.2}name\n",
      "{http://www.opengis.net/kml/2.2}description\n",
      "{http://www.opengis.net/kml/2.2}styleUrl\n",
      "{http://www.opengis.net/kml/2.2}ExtendedData\n",
      "{http://www.opengis.net/kml/2.2}Data\n",
      "{http://www.opengis.net/kml/2.2}value\n",
      "{http://www.opengis.net/kml/2.2}Point\n",
      "{http://www.opengis.net/kml/2.2}coordinates\n",
      "{http://www.opengis.net/kml/2.2}Placemark\n",
      "{http://www.opengis.net/kml/2.2}name\n",
      "{http://www.opengis.net/kml/2.2}description\n",
      "{http://www.opengis.net/kml/2.2}styleUrl\n",
      "{http://www.opengis.net/kml/2.2}ExtendedData\n",
      "{http://www.opengis.net/kml/2.2}Data\n",
      "{http://www.opengis.net/kml/2.2}value\n",
      "{http://www.opengis.net/kml/2.2}Point\n",
      "{http://www.opengis.net/kml/2.2}coordinates\n",
      "{http://www.opengis.net/kml/2.2}Placemark\n",
      "{http://www.opengis.net/kml/2.2}name\n",
      "{http://www.opengis.net/kml/2.2}description\n",
      "{http://www.opengis.net/kml/2.2}styleUrl\n",
      "{http://www.opengis.net/kml/2.2}ExtendedData\n",
      "{http://www.opengis.net/kml/2.2}Data\n",
      "{http://www.opengis.net/kml/2.2}value\n",
      "{http://www.opengis.net/kml/2.2}Point\n",
      "{http://www.opengis.net/kml/2.2}coordinates\n",
      "{http://www.opengis.net/kml/2.2}Placemark\n",
      "{http://www.opengis.net/kml/2.2}name\n",
      "{http://www.opengis.net/kml/2.2}description\n",
      "{http://www.opengis.net/kml/2.2}styleUrl\n",
      "{http://www.opengis.net/kml/2.2}ExtendedData\n",
      "{http://www.opengis.net/kml/2.2}Data\n",
      "{http://www.opengis.net/kml/2.2}value\n",
      "{http://www.opengis.net/kml/2.2}Point\n",
      "{http://www.opengis.net/kml/2.2}coordinates\n",
      "{http://www.opengis.net/kml/2.2}Placemark\n",
      "{http://www.opengis.net/kml/2.2}name\n",
      "{http://www.opengis.net/kml/2.2}description\n",
      "{http://www.opengis.net/kml/2.2}styleUrl\n",
      "{http://www.opengis.net/kml/2.2}ExtendedData\n",
      "{http://www.opengis.net/kml/2.2}Data\n",
      "{http://www.opengis.net/kml/2.2}value\n",
      "{http://www.opengis.net/kml/2.2}Point\n",
      "{http://www.opengis.net/kml/2.2}coordinates\n",
      "{http://www.opengis.net/kml/2.2}Placemark\n",
      "{http://www.opengis.net/kml/2.2}name\n",
      "{http://www.opengis.net/kml/2.2}description\n",
      "{http://www.opengis.net/kml/2.2}styleUrl\n",
      "{http://www.opengis.net/kml/2.2}ExtendedData\n",
      "{http://www.opengis.net/kml/2.2}Data\n",
      "{http://www.opengis.net/kml/2.2}value\n",
      "{http://www.opengis.net/kml/2.2}Point\n",
      "{http://www.opengis.net/kml/2.2}coordinates\n",
      "{http://www.opengis.net/kml/2.2}Placemark\n",
      "{http://www.opengis.net/kml/2.2}name\n",
      "{http://www.opengis.net/kml/2.2}description\n",
      "{http://www.opengis.net/kml/2.2}styleUrl\n",
      "{http://www.opengis.net/kml/2.2}ExtendedData\n",
      "{http://www.opengis.net/kml/2.2}Data\n",
      "{http://www.opengis.net/kml/2.2}value\n",
      "{http://www.opengis.net/kml/2.2}Point\n",
      "{http://www.opengis.net/kml/2.2}coordinates\n",
      "{http://www.opengis.net/kml/2.2}Placemark\n",
      "{http://www.opengis.net/kml/2.2}name\n",
      "{http://www.opengis.net/kml/2.2}description\n",
      "{http://www.opengis.net/kml/2.2}styleUrl\n",
      "{http://www.opengis.net/kml/2.2}ExtendedData\n",
      "{http://www.opengis.net/kml/2.2}Data\n",
      "{http://www.opengis.net/kml/2.2}value\n",
      "{http://www.opengis.net/kml/2.2}Point\n",
      "{http://www.opengis.net/kml/2.2}coordinates\n",
      "{http://www.opengis.net/kml/2.2}Placemark\n",
      "{http://www.opengis.net/kml/2.2}name\n",
      "{http://www.opengis.net/kml/2.2}description\n",
      "{http://www.opengis.net/kml/2.2}styleUrl\n",
      "{http://www.opengis.net/kml/2.2}ExtendedData\n",
      "{http://www.opengis.net/kml/2.2}Data\n",
      "{http://www.opengis.net/kml/2.2}value\n",
      "{http://www.opengis.net/kml/2.2}Point\n",
      "{http://www.opengis.net/kml/2.2}coordinates\n",
      "{http://www.opengis.net/kml/2.2}Placemark\n",
      "{http://www.opengis.net/kml/2.2}name\n",
      "{http://www.opengis.net/kml/2.2}description\n",
      "{http://www.opengis.net/kml/2.2}styleUrl\n",
      "{http://www.opengis.net/kml/2.2}ExtendedData\n",
      "{http://www.opengis.net/kml/2.2}Data\n",
      "{http://www.opengis.net/kml/2.2}value\n",
      "{http://www.opengis.net/kml/2.2}Point\n",
      "{http://www.opengis.net/kml/2.2}coordinates\n",
      "{http://www.opengis.net/kml/2.2}Placemark\n",
      "{http://www.opengis.net/kml/2.2}name\n",
      "{http://www.opengis.net/kml/2.2}description\n",
      "{http://www.opengis.net/kml/2.2}styleUrl\n",
      "{http://www.opengis.net/kml/2.2}ExtendedData\n",
      "{http://www.opengis.net/kml/2.2}Data\n",
      "{http://www.opengis.net/kml/2.2}value\n",
      "{http://www.opengis.net/kml/2.2}Point\n",
      "{http://www.opengis.net/kml/2.2}coordinates\n",
      "{http://www.opengis.net/kml/2.2}Placemark\n",
      "{http://www.opengis.net/kml/2.2}name\n",
      "{http://www.opengis.net/kml/2.2}description\n",
      "{http://www.opengis.net/kml/2.2}styleUrl\n",
      "{http://www.opengis.net/kml/2.2}ExtendedData\n",
      "{http://www.opengis.net/kml/2.2}Data\n",
      "{http://www.opengis.net/kml/2.2}value\n",
      "{http://www.opengis.net/kml/2.2}Point\n",
      "{http://www.opengis.net/kml/2.2}coordinates\n",
      "{http://www.opengis.net/kml/2.2}Placemark\n",
      "{http://www.opengis.net/kml/2.2}name\n",
      "{http://www.opengis.net/kml/2.2}description\n",
      "{http://www.opengis.net/kml/2.2}styleUrl\n",
      "{http://www.opengis.net/kml/2.2}ExtendedData\n",
      "{http://www.opengis.net/kml/2.2}Data\n",
      "{http://www.opengis.net/kml/2.2}value\n",
      "{http://www.opengis.net/kml/2.2}Point\n",
      "{http://www.opengis.net/kml/2.2}coordinates\n",
      "{http://www.opengis.net/kml/2.2}Folder\n",
      "{http://www.opengis.net/kml/2.2}name\n",
      "{http://www.opengis.net/kml/2.2}Placemark\n",
      "{http://www.opengis.net/kml/2.2}name\n",
      "{http://www.opengis.net/kml/2.2}description\n",
      "{http://www.opengis.net/kml/2.2}styleUrl\n",
      "{http://www.opengis.net/kml/2.2}ExtendedData\n",
      "{http://www.opengis.net/kml/2.2}Data\n",
      "{http://www.opengis.net/kml/2.2}value\n",
      "{http://www.opengis.net/kml/2.2}Point\n",
      "{http://www.opengis.net/kml/2.2}coordinates\n",
      "{http://www.opengis.net/kml/2.2}Placemark\n",
      "{http://www.opengis.net/kml/2.2}name\n",
      "{http://www.opengis.net/kml/2.2}description\n",
      "{http://www.opengis.net/kml/2.2}styleUrl\n",
      "{http://www.opengis.net/kml/2.2}ExtendedData\n",
      "{http://www.opengis.net/kml/2.2}Data\n",
      "{http://www.opengis.net/kml/2.2}value\n",
      "{http://www.opengis.net/kml/2.2}Point\n",
      "{http://www.opengis.net/kml/2.2}coordinates\n",
      "{http://www.opengis.net/kml/2.2}Placemark\n",
      "{http://www.opengis.net/kml/2.2}name\n",
      "{http://www.opengis.net/kml/2.2}description\n",
      "{http://www.opengis.net/kml/2.2}styleUrl\n",
      "{http://www.opengis.net/kml/2.2}ExtendedData\n",
      "{http://www.opengis.net/kml/2.2}Data\n",
      "{http://www.opengis.net/kml/2.2}value\n",
      "{http://www.opengis.net/kml/2.2}Point\n",
      "{http://www.opengis.net/kml/2.2}coordinates\n",
      "{http://www.opengis.net/kml/2.2}Placemark\n",
      "{http://www.opengis.net/kml/2.2}name\n",
      "{http://www.opengis.net/kml/2.2}description\n",
      "{http://www.opengis.net/kml/2.2}styleUrl\n",
      "{http://www.opengis.net/kml/2.2}ExtendedData\n",
      "{http://www.opengis.net/kml/2.2}Data\n",
      "{http://www.opengis.net/kml/2.2}value\n",
      "{http://www.opengis.net/kml/2.2}Point\n",
      "{http://www.opengis.net/kml/2.2}coordinates\n",
      "{http://www.opengis.net/kml/2.2}Placemark\n",
      "{http://www.opengis.net/kml/2.2}name\n",
      "{http://www.opengis.net/kml/2.2}description\n",
      "{http://www.opengis.net/kml/2.2}styleUrl\n",
      "{http://www.opengis.net/kml/2.2}ExtendedData\n",
      "{http://www.opengis.net/kml/2.2}Data\n",
      "{http://www.opengis.net/kml/2.2}value\n",
      "{http://www.opengis.net/kml/2.2}Point\n",
      "{http://www.opengis.net/kml/2.2}coordinates\n",
      "{http://www.opengis.net/kml/2.2}Placemark\n",
      "{http://www.opengis.net/kml/2.2}name\n",
      "{http://www.opengis.net/kml/2.2}description\n",
      "{http://www.opengis.net/kml/2.2}styleUrl\n",
      "{http://www.opengis.net/kml/2.2}ExtendedData\n",
      "{http://www.opengis.net/kml/2.2}Data\n",
      "{http://www.opengis.net/kml/2.2}value\n",
      "{http://www.opengis.net/kml/2.2}Point\n",
      "{http://www.opengis.net/kml/2.2}coordinates\n",
      "{http://www.opengis.net/kml/2.2}Placemark\n",
      "{http://www.opengis.net/kml/2.2}name\n",
      "{http://www.opengis.net/kml/2.2}description\n",
      "{http://www.opengis.net/kml/2.2}styleUrl\n",
      "{http://www.opengis.net/kml/2.2}ExtendedData\n",
      "{http://www.opengis.net/kml/2.2}Data\n",
      "{http://www.opengis.net/kml/2.2}value\n",
      "{http://www.opengis.net/kml/2.2}Point\n",
      "{http://www.opengis.net/kml/2.2}coordinates\n",
      "{http://www.opengis.net/kml/2.2}Placemark\n",
      "{http://www.opengis.net/kml/2.2}name\n",
      "{http://www.opengis.net/kml/2.2}description\n",
      "{http://www.opengis.net/kml/2.2}styleUrl\n",
      "{http://www.opengis.net/kml/2.2}ExtendedData\n",
      "{http://www.opengis.net/kml/2.2}Data\n",
      "{http://www.opengis.net/kml/2.2}value\n",
      "{http://www.opengis.net/kml/2.2}Point\n",
      "{http://www.opengis.net/kml/2.2}coordinates\n",
      "{http://www.opengis.net/kml/2.2}Placemark\n",
      "{http://www.opengis.net/kml/2.2}name\n",
      "{http://www.opengis.net/kml/2.2}description\n",
      "{http://www.opengis.net/kml/2.2}styleUrl\n",
      "{http://www.opengis.net/kml/2.2}ExtendedData\n",
      "{http://www.opengis.net/kml/2.2}Data\n",
      "{http://www.opengis.net/kml/2.2}value\n",
      "{http://www.opengis.net/kml/2.2}Point\n",
      "{http://www.opengis.net/kml/2.2}coordinates\n",
      "{http://www.opengis.net/kml/2.2}Placemark\n",
      "{http://www.opengis.net/kml/2.2}name\n",
      "{http://www.opengis.net/kml/2.2}description\n",
      "{http://www.opengis.net/kml/2.2}styleUrl\n",
      "{http://www.opengis.net/kml/2.2}ExtendedData\n",
      "{http://www.opengis.net/kml/2.2}Data\n",
      "{http://www.opengis.net/kml/2.2}value\n",
      "{http://www.opengis.net/kml/2.2}Point\n",
      "{http://www.opengis.net/kml/2.2}coordinates\n",
      "{http://www.opengis.net/kml/2.2}Placemark\n",
      "{http://www.opengis.net/kml/2.2}name\n",
      "{http://www.opengis.net/kml/2.2}description\n",
      "{http://www.opengis.net/kml/2.2}styleUrl\n",
      "{http://www.opengis.net/kml/2.2}ExtendedData\n",
      "{http://www.opengis.net/kml/2.2}Data\n",
      "{http://www.opengis.net/kml/2.2}value\n",
      "{http://www.opengis.net/kml/2.2}Point\n",
      "{http://www.opengis.net/kml/2.2}coordinates\n",
      "{http://www.opengis.net/kml/2.2}Placemark\n",
      "{http://www.opengis.net/kml/2.2}name\n",
      "{http://www.opengis.net/kml/2.2}description\n",
      "{http://www.opengis.net/kml/2.2}styleUrl\n",
      "{http://www.opengis.net/kml/2.2}ExtendedData\n",
      "{http://www.opengis.net/kml/2.2}Data\n",
      "{http://www.opengis.net/kml/2.2}value\n",
      "{http://www.opengis.net/kml/2.2}Point\n",
      "{http://www.opengis.net/kml/2.2}coordinates\n",
      "{http://www.opengis.net/kml/2.2}Placemark\n",
      "{http://www.opengis.net/kml/2.2}name\n",
      "{http://www.opengis.net/kml/2.2}description\n",
      "{http://www.opengis.net/kml/2.2}styleUrl\n",
      "{http://www.opengis.net/kml/2.2}ExtendedData\n",
      "{http://www.opengis.net/kml/2.2}Data\n",
      "{http://www.opengis.net/kml/2.2}value\n",
      "{http://www.opengis.net/kml/2.2}Point\n",
      "{http://www.opengis.net/kml/2.2}coordinates\n",
      "{http://www.opengis.net/kml/2.2}Placemark\n",
      "{http://www.opengis.net/kml/2.2}name\n",
      "{http://www.opengis.net/kml/2.2}description\n",
      "{http://www.opengis.net/kml/2.2}styleUrl\n",
      "{http://www.opengis.net/kml/2.2}ExtendedData\n",
      "{http://www.opengis.net/kml/2.2}Data\n",
      "{http://www.opengis.net/kml/2.2}value\n",
      "{http://www.opengis.net/kml/2.2}Point\n",
      "{http://www.opengis.net/kml/2.2}coordinates\n",
      "{http://www.opengis.net/kml/2.2}Placemark\n",
      "{http://www.opengis.net/kml/2.2}name\n",
      "{http://www.opengis.net/kml/2.2}description\n",
      "{http://www.opengis.net/kml/2.2}styleUrl\n",
      "{http://www.opengis.net/kml/2.2}ExtendedData\n",
      "{http://www.opengis.net/kml/2.2}Data\n",
      "{http://www.opengis.net/kml/2.2}value\n",
      "{http://www.opengis.net/kml/2.2}Point\n",
      "{http://www.opengis.net/kml/2.2}coordinates\n",
      "{http://www.opengis.net/kml/2.2}Placemark\n",
      "{http://www.opengis.net/kml/2.2}name\n",
      "{http://www.opengis.net/kml/2.2}description\n",
      "{http://www.opengis.net/kml/2.2}styleUrl\n",
      "{http://www.opengis.net/kml/2.2}ExtendedData\n",
      "{http://www.opengis.net/kml/2.2}Data\n",
      "{http://www.opengis.net/kml/2.2}value\n",
      "{http://www.opengis.net/kml/2.2}Point\n",
      "{http://www.opengis.net/kml/2.2}coordinates\n",
      "{http://www.opengis.net/kml/2.2}Placemark\n",
      "{http://www.opengis.net/kml/2.2}name\n",
      "{http://www.opengis.net/kml/2.2}description\n",
      "{http://www.opengis.net/kml/2.2}styleUrl\n",
      "{http://www.opengis.net/kml/2.2}ExtendedData\n",
      "{http://www.opengis.net/kml/2.2}Data\n",
      "{http://www.opengis.net/kml/2.2}value\n",
      "{http://www.opengis.net/kml/2.2}Point\n",
      "{http://www.opengis.net/kml/2.2}coordinates\n",
      "{http://www.opengis.net/kml/2.2}Placemark\n",
      "{http://www.opengis.net/kml/2.2}name\n",
      "{http://www.opengis.net/kml/2.2}description\n",
      "{http://www.opengis.net/kml/2.2}styleUrl\n",
      "{http://www.opengis.net/kml/2.2}ExtendedData\n",
      "{http://www.opengis.net/kml/2.2}Data\n",
      "{http://www.opengis.net/kml/2.2}value\n",
      "{http://www.opengis.net/kml/2.2}Point\n",
      "{http://www.opengis.net/kml/2.2}coordinates\n",
      "{http://www.opengis.net/kml/2.2}Placemark\n",
      "{http://www.opengis.net/kml/2.2}name\n",
      "{http://www.opengis.net/kml/2.2}description\n",
      "{http://www.opengis.net/kml/2.2}styleUrl\n",
      "{http://www.opengis.net/kml/2.2}ExtendedData\n",
      "{http://www.opengis.net/kml/2.2}Data\n",
      "{http://www.opengis.net/kml/2.2}value\n",
      "{http://www.opengis.net/kml/2.2}Point\n",
      "{http://www.opengis.net/kml/2.2}coordinates\n",
      "{http://www.opengis.net/kml/2.2}Placemark\n",
      "{http://www.opengis.net/kml/2.2}name\n",
      "{http://www.opengis.net/kml/2.2}description\n",
      "{http://www.opengis.net/kml/2.2}styleUrl\n",
      "{http://www.opengis.net/kml/2.2}ExtendedData\n",
      "{http://www.opengis.net/kml/2.2}Data\n",
      "{http://www.opengis.net/kml/2.2}value\n",
      "{http://www.opengis.net/kml/2.2}Point\n",
      "{http://www.opengis.net/kml/2.2}coordinates\n",
      "{http://www.opengis.net/kml/2.2}Placemark\n",
      "{http://www.opengis.net/kml/2.2}name\n",
      "{http://www.opengis.net/kml/2.2}description\n",
      "{http://www.opengis.net/kml/2.2}styleUrl\n",
      "{http://www.opengis.net/kml/2.2}ExtendedData\n",
      "{http://www.opengis.net/kml/2.2}Data\n",
      "{http://www.opengis.net/kml/2.2}value\n",
      "{http://www.opengis.net/kml/2.2}Point\n",
      "{http://www.opengis.net/kml/2.2}coordinates\n",
      "{http://www.opengis.net/kml/2.2}Placemark\n",
      "{http://www.opengis.net/kml/2.2}name\n",
      "{http://www.opengis.net/kml/2.2}description\n",
      "{http://www.opengis.net/kml/2.2}styleUrl\n",
      "{http://www.opengis.net/kml/2.2}ExtendedData\n",
      "{http://www.opengis.net/kml/2.2}Data\n",
      "{http://www.opengis.net/kml/2.2}value\n",
      "{http://www.opengis.net/kml/2.2}Point\n",
      "{http://www.opengis.net/kml/2.2}coordinates\n",
      "{http://www.opengis.net/kml/2.2}Placemark\n",
      "{http://www.opengis.net/kml/2.2}name\n",
      "{http://www.opengis.net/kml/2.2}description\n",
      "{http://www.opengis.net/kml/2.2}styleUrl\n",
      "{http://www.opengis.net/kml/2.2}ExtendedData\n",
      "{http://www.opengis.net/kml/2.2}Data\n",
      "{http://www.opengis.net/kml/2.2}value\n",
      "{http://www.opengis.net/kml/2.2}Point\n",
      "{http://www.opengis.net/kml/2.2}coordinates\n",
      "{http://www.opengis.net/kml/2.2}Placemark\n",
      "{http://www.opengis.net/kml/2.2}name\n",
      "{http://www.opengis.net/kml/2.2}description\n",
      "{http://www.opengis.net/kml/2.2}styleUrl\n",
      "{http://www.opengis.net/kml/2.2}ExtendedData\n",
      "{http://www.opengis.net/kml/2.2}Data\n",
      "{http://www.opengis.net/kml/2.2}value\n",
      "{http://www.opengis.net/kml/2.2}Point\n",
      "{http://www.opengis.net/kml/2.2}coordinates\n",
      "{http://www.opengis.net/kml/2.2}Placemark\n",
      "{http://www.opengis.net/kml/2.2}name\n",
      "{http://www.opengis.net/kml/2.2}description\n",
      "{http://www.opengis.net/kml/2.2}styleUrl\n",
      "{http://www.opengis.net/kml/2.2}ExtendedData\n",
      "{http://www.opengis.net/kml/2.2}Data\n",
      "{http://www.opengis.net/kml/2.2}value\n",
      "{http://www.opengis.net/kml/2.2}Point\n",
      "{http://www.opengis.net/kml/2.2}coordinates\n",
      "{http://www.opengis.net/kml/2.2}Placemark\n",
      "{http://www.opengis.net/kml/2.2}name\n",
      "{http://www.opengis.net/kml/2.2}description\n",
      "{http://www.opengis.net/kml/2.2}styleUrl\n",
      "{http://www.opengis.net/kml/2.2}ExtendedData\n",
      "{http://www.opengis.net/kml/2.2}Data\n",
      "{http://www.opengis.net/kml/2.2}value\n",
      "{http://www.opengis.net/kml/2.2}Point\n",
      "{http://www.opengis.net/kml/2.2}coordinates\n",
      "{http://www.opengis.net/kml/2.2}Placemark\n",
      "{http://www.opengis.net/kml/2.2}name\n",
      "{http://www.opengis.net/kml/2.2}description\n",
      "{http://www.opengis.net/kml/2.2}styleUrl\n",
      "{http://www.opengis.net/kml/2.2}ExtendedData\n",
      "{http://www.opengis.net/kml/2.2}Data\n",
      "{http://www.opengis.net/kml/2.2}value\n",
      "{http://www.opengis.net/kml/2.2}Point\n",
      "{http://www.opengis.net/kml/2.2}coordinates\n",
      "{http://www.opengis.net/kml/2.2}Placemark\n",
      "{http://www.opengis.net/kml/2.2}name\n",
      "{http://www.opengis.net/kml/2.2}description\n",
      "{http://www.opengis.net/kml/2.2}styleUrl\n",
      "{http://www.opengis.net/kml/2.2}ExtendedData\n",
      "{http://www.opengis.net/kml/2.2}Data\n",
      "{http://www.opengis.net/kml/2.2}value\n",
      "{http://www.opengis.net/kml/2.2}Point\n",
      "{http://www.opengis.net/kml/2.2}coordinates\n",
      "{http://www.opengis.net/kml/2.2}Placemark\n",
      "{http://www.opengis.net/kml/2.2}name\n",
      "{http://www.opengis.net/kml/2.2}description\n",
      "{http://www.opengis.net/kml/2.2}styleUrl\n",
      "{http://www.opengis.net/kml/2.2}ExtendedData\n",
      "{http://www.opengis.net/kml/2.2}Data\n",
      "{http://www.opengis.net/kml/2.2}value\n",
      "{http://www.opengis.net/kml/2.2}Point\n",
      "{http://www.opengis.net/kml/2.2}coordinates\n",
      "{http://www.opengis.net/kml/2.2}Placemark\n",
      "{http://www.opengis.net/kml/2.2}name\n",
      "{http://www.opengis.net/kml/2.2}description\n",
      "{http://www.opengis.net/kml/2.2}styleUrl\n",
      "{http://www.opengis.net/kml/2.2}ExtendedData\n",
      "{http://www.opengis.net/kml/2.2}Data\n",
      "{http://www.opengis.net/kml/2.2}value\n",
      "{http://www.opengis.net/kml/2.2}Point\n",
      "{http://www.opengis.net/kml/2.2}coordinates\n",
      "{http://www.opengis.net/kml/2.2}Placemark\n",
      "{http://www.opengis.net/kml/2.2}name\n",
      "{http://www.opengis.net/kml/2.2}description\n",
      "{http://www.opengis.net/kml/2.2}styleUrl\n",
      "{http://www.opengis.net/kml/2.2}ExtendedData\n",
      "{http://www.opengis.net/kml/2.2}Data\n",
      "{http://www.opengis.net/kml/2.2}value\n",
      "{http://www.opengis.net/kml/2.2}Point\n",
      "{http://www.opengis.net/kml/2.2}coordinates\n",
      "{http://www.opengis.net/kml/2.2}Placemark\n",
      "{http://www.opengis.net/kml/2.2}name\n",
      "{http://www.opengis.net/kml/2.2}description\n",
      "{http://www.opengis.net/kml/2.2}styleUrl\n",
      "{http://www.opengis.net/kml/2.2}ExtendedData\n",
      "{http://www.opengis.net/kml/2.2}Data\n",
      "{http://www.opengis.net/kml/2.2}value\n",
      "{http://www.opengis.net/kml/2.2}Point\n",
      "{http://www.opengis.net/kml/2.2}coordinates\n",
      "{http://www.opengis.net/kml/2.2}Placemark\n",
      "{http://www.opengis.net/kml/2.2}name\n",
      "{http://www.opengis.net/kml/2.2}description\n",
      "{http://www.opengis.net/kml/2.2}styleUrl\n",
      "{http://www.opengis.net/kml/2.2}ExtendedData\n",
      "{http://www.opengis.net/kml/2.2}Data\n",
      "{http://www.opengis.net/kml/2.2}value\n",
      "{http://www.opengis.net/kml/2.2}Point\n",
      "{http://www.opengis.net/kml/2.2}coordinates\n"
     ]
    }
   ],
   "source": [
    "#welche Datenpunkte stehen zur Verfügung\n",
    "for a in root.findall(\".//\"):\n",
    "    print(a.tag)"
   ]
  },
  {
   "cell_type": "code",
   "execution_count": 26,
   "metadata": {},
   "outputs": [],
   "source": [
    "#alle Videotitel\n",
    "#root.findall(\".//{http://www.opengis.net/kml/2.2}Placemark/{http://www.opengis.net/kml/2.2}name\") "
   ]
  },
  {
   "cell_type": "code",
   "execution_count": 152,
   "metadata": {},
   "outputs": [
    {
     "output_type": "error",
     "ename": "SyntaxError",
     "evalue": "invalid syntax (<ipython-input-152-dde07c34d509>, line 1)",
     "traceback": [
      "\u001b[1;36m  File \u001b[1;32m\"<ipython-input-152-dde07c34d509>\"\u001b[1;36m, line \u001b[1;32m1\u001b[0m\n\u001b[1;33m    for a in root.findall(\".//{http://www.opengis.net/kml/2.2}Placemark/\")\u001b[0m\n\u001b[1;37m                                                                          ^\u001b[0m\n\u001b[1;31mSyntaxError\u001b[0m\u001b[1;31m:\u001b[0m invalid syntax\n"
     ]
    }
   ],
   "source": [
    "for a in root.findall(\".//{http://www.opengis.net/kml/2.2}Placemark/\")\n",
    "    print(a.tag)"
   ]
  },
  {
   "cell_type": "code",
   "execution_count": 29,
   "metadata": {
    "tags": []
   },
   "outputs": [],
   "source": [
    "# Videotitel\n",
    "# for a in root.findall(\".//{http://www.opengis.net/kml/2.2}Placemark/{http://www.opengis.net/kml/2.2}name\"):\n",
    "#     print(a.text)"
   ]
  },
  {
   "cell_type": "code",
   "execution_count": 30,
   "metadata": {
    "tags": []
   },
   "outputs": [],
   "source": [
    "#coordinates\n",
    "# for a in root.findall(\".//{http://www.opengis.net/kml/2.2}coordinates\"):\n",
    "#     print(a.text)"
   ]
  },
  {
   "cell_type": "code",
   "execution_count": 50,
   "metadata": {},
   "outputs": [
    {
     "output_type": "stream",
     "name": "stdout",
     "text": [
      "Asia Night (China)\n"
     ]
    }
   ],
   "source": [
    "#folder name - was auch immer das ist\n",
    "for i in root.Document.Folder.name:\n",
    "    print(i)"
   ]
  },
  {
   "cell_type": "code",
   "execution_count": 9,
   "metadata": {
    "tags": [
     "outputPrepend"
    ]
   },
   "outputs": [
    {
     "output_type": "stream",
     "name": "stdout",
     "text": [
      "inates>\n        </Point>\n      </Placemark>\n      <Placemark>\n        <name>Wachau Valley (Austria)</name>\n        <description><![CDATA[<a href=\"https://www.youtube.com/watch?v=gI4iHDzZsCs\"><img src=\"https://img.youtube.com/vi/gI4iHDzZsCs/hqdefault.jpg\" height=\"200\" width=\"auto\" /></a><br><br><a href=\"https://www.youtube.com/embed/gI4iHDzZsCs\">https://www.youtube.com/embed/gI4iHDzZsCs</a><br><br>]]></description>\n        <styleUrl>#icon-1731-E65100</styleUrl>\n        <ExtendedData>\n          <Data name=\"gx_media_links\">\n            <value>https://www.youtube.com/embed/gI4iHDzZsCs</value>\n          </Data>\n        </ExtendedData>\n        <Point>\n          <coordinates>\n            15.5486325,48.3763536,0\n          </coordinates>\n        </Point>\n      </Placemark>\n      <Placemark>\n        <name>Spitz an der Donau (Austria)</name>\n        <description><![CDATA[<a href=\"https://www.youtube.com/watch?v=UUFTZUj1vFs\"><img src=\"https://img.youtube.com/vi/UUFTZUj1vFs/hqdefault.jpg\" height=\"200\" width=\"auto\" /></a><br><br><a href=\"https://www.youtube.com/embed/UUFTZUj1vFs\">https://www.youtube.com/embed/UUFTZUj1vFs</a><br><br>]]></description>\n        <styleUrl>#icon-1731-E65100</styleUrl>\n        <ExtendedData>\n          <Data name=\"gx_media_links\">\n            <value>https://www.youtube.com/embed/UUFTZUj1vFs</value>\n          </Data>\n        </ExtendedData>\n        <Point>\n          <coordinates>\n            15.4143779,48.3660154,0\n          </coordinates>\n        </Point>\n      </Placemark>\n      <Placemark>\n        <name>Walk Along Danube River (Austria)</name>\n        <description><![CDATA[<a href=\"https://www.youtube.com/watch?v=nguNIhxm5Uc\"><img src=\"https://img.youtube.com/vi/nguNIhxm5Uc/hqdefault.jpg\" height=\"200\" width=\"auto\" /></a><br><br><a href=\"https://www.youtube.com/embed/nguNIhxm5Uc\">https://www.youtube.com/embed/nguNIhxm5Uc</a><br><br>]]></description>\n        <styleUrl>#icon-1731-E65100</styleUrl>\n        <ExtendedData>\n          <Data name=\"gx_media_links\">\n            <value>https://www.youtube.com/embed/nguNIhxm5Uc</value>\n          </Data>\n        </ExtendedData>\n        <Point>\n          <coordinates>\n            15.5873746,48.4044905,0\n          </coordinates>\n        </Point>\n      </Placemark>\n      <Placemark>\n        <name>Krems an der Donau (Austria)\n</name>\n        <description><![CDATA[<a href=\"https://www.youtube.com/watch?v=G68P9Gew0Lk\"><img src=\"https://img.youtube.com/vi/G68P9Gew0Lk/hqdefault.jpg\" height=\"200\" width=\"auto\" /></a><br><br><a href=\"https://www.youtube.com/embed/G68P9Gew0Lk\">https://www.youtube.com/embed/G68P9Gew0Lk</a><br><br>]]></description>\n        <styleUrl>#icon-1731-E65100</styleUrl>\n        <ExtendedData>\n          <Data name=\"gx_media_links\">\n            <value>https://www.youtube.com/embed/G68P9Gew0Lk</value>\n          </Data>\n        </ExtendedData>\n        <Point>\n          <coordinates>\n            15.5960082,48.4090714,0\n          </coordinates>\n        </Point>\n      </Placemark>\n      <Placemark>\n        <name>Abandoned Castle (Austria)</name>\n        <description><![CDATA[<a href=\"https://www.youtube.com/watch?v=wePWPlbpnKY\"><img src=\"https://img.youtube.com/vi/wePWPlbpnKY/hqdefault.jpg\" height=\"200\" width=\"auto\" /></a><br><br><a href=\"https://www.youtube.com/embed/wePWPlbpnKY\">https://www.youtube.com/embed/wePWPlbpnKY</a><br><br>]]></description>\n        <styleUrl>#icon-1731-E65100</styleUrl>\n        <ExtendedData>\n          <Data name=\"gx_media_links\">\n            <value>https://www.youtube.com/embed/wePWPlbpnKY</value>\n          </Data>\n        </ExtendedData>\n        <Point>\n          <coordinates>\n            15.3929925,48.5947959,0\n          </coordinates>\n        </Point>\n      </Placemark>\n      <Placemark>\n        <name>Castle Ruins at Lake (Austria)</name>\n        <description><![CDATA[<a href=\"https://www.youtube.com/watch?v=sLqLfUfsNa4\"><img src=\"https://img.youtube.com/vi/sLqLfUfsNa4/hqdefault.jpg\" height=\"200\" width=\"auto\" /></a><br><br><a href=\"https://www.youtube.com/embed/sLqLfUfsNa4\">https://www.youtube.com/embed/sLqLfUfsNa4</a><br><br>]]></description>\n        <styleUrl>#icon-1731-E65100</styleUrl>\n        <ExtendedData>\n          <Data name=\"gx_media_links\">\n            <value>https://www.youtube.com/embed/sLqLfUfsNa4</value>\n          </Data>\n        </ExtendedData>\n        <Point>\n          <coordinates>\n            15.3163765,48.5854806,0\n          </coordinates>\n        </Point>\n      </Placemark>\n      <Placemark>\n        <name>Forest Walk in Europe (Austria)</name>\n        <description><![CDATA[<a href=\"https://www.youtube.com/watch?v=S5WIxosHuWo\"><img src=\"https://img.youtube.com/vi/S5WIxosHuWo/hqdefault.jpg\" height=\"200\" width=\"auto\" /></a><br><br><a href=\"https://www.youtube.com/embed/S5WIxosHuWo\">https://www.youtube.com/embed/S5WIxosHuWo</a><br><br>]]></description>\n        <styleUrl>#icon-1731-E65100</styleUrl>\n        <ExtendedData>\n          <Data name=\"gx_media_links\">\n            <value>https://www.youtube.com/embed/S5WIxosHuWo</value>\n          </Data>\n        </ExtendedData>\n        <Point>\n          <coordinates>\n            15.6069053,48.5101581,0\n          </coordinates>\n        </Point>\n      </Placemark>\n      <Placemark>\n        <name>Senftenberg Castle (Austria)</name>\n        <description><![CDATA[<a href=\"https://www.youtube.com/watch?v=rrOfq0zkEic\"><img src=\"https://img.youtube.com/vi/rrOfq0zkEic/hqdefault.jpg\" height=\"200\" width=\"auto\" /></a><br><br><a href=\"https://www.youtube.com/embed/rrOfq0zkEic\">https://www.youtube.com/embed/rrOfq0zkEic</a><br><br>]]></description>\n        <styleUrl>#icon-1731-E65100</styleUrl>\n        <ExtendedData>\n          <Data name=\"gx_media_links\">\n            <value>https://www.youtube.com/embed/rrOfq0zkEic</value>\n          </Data>\n        </ExtendedData>\n        <Point>\n          <coordinates>\n            15.5663625,48.4460262,0\n          </coordinates>\n        </Point>\n      </Placemark>\n      <Placemark>\n        <name>Rehberg Castle (Austria)\n</name>\n        <description><![CDATA[<a href=\"https://www.youtube.com/watch?v=WX6MTNn05kQ\"><img src=\"https://img.youtube.com/vi/WX6MTNn05kQ/hqdefault.jpg\" height=\"200\" width=\"auto\" /></a><br><br><a href=\"https://www.youtube.com/embed/WX6MTNn05kQ\">https://www.youtube.com/embed/WX6MTNn05kQ</a><br><br>]]></description>\n        <styleUrl>#icon-1731-E65100</styleUrl>\n        <ExtendedData>\n          <Data name=\"gx_media_links\">\n            <value>https://www.youtube.com/embed/WX6MTNn05kQ</value>\n          </Data>\n        </ExtendedData>\n        <Point>\n          <coordinates>\n            15.5852608,48.4307068,0\n          </coordinates>\n        </Point>\n      </Placemark>\n      <Placemark>\n        <name>Weissenkirchen (Austria)</name>\n        <description><![CDATA[<a href=\"https://www.youtube.com/watch?v=EwumcWTOBBc\"><img src=\"https://img.youtube.com/vi/EwumcWTOBBc/hqdefault.jpg\" height=\"200\" width=\"auto\" /></a><br><br><a href=\"https://www.youtube.com/embed/EwumcWTOBBc\">https://www.youtube.com/embed/EwumcWTOBBc</a><br><br>]]></description>\n        <styleUrl>#icon-1731-E65100</styleUrl>\n        <ExtendedData>\n          <Data name=\"gx_media_links\">\n            <value>https://www.youtube.com/embed/EwumcWTOBBc</value>\n          </Data>\n        </ExtendedData>\n        <Point>\n          <coordinates>\n            15.469576,48.3956539,0\n          </coordinates>\n        </Point>\n      </Placemark>\n      <Placemark>\n        <name>Medieval Church (Austria)</name>\n        <description><![CDATA[<a href=\"https://www.youtube.com/watch?v=so4EAzUSIac\"><img src=\"https://img.youtube.com/vi/so4EAzUSIac/hqdefault.jpg\" height=\"200\" width=\"auto\" /></a><br><br><a href=\"https://www.youtube.com/embed/so4EAzUSIac\">https://www.youtube.com/embed/so4EAzUSIac</a><br><br>]]></description>\n        <styleUrl>#icon-1731-E65100</styleUrl>\n        <ExtendedData>\n          <Data name=\"gx_media_links\">\n            <value>https://www.youtube.com/embed/so4EAzUSIac</value>\n          </Data>\n        </ExtendedData>\n        <Point>\n          <coordinates>\n            15.439541,48.3715495,0\n          </coordinates>\n        </Point>\n      </Placemark>\n      <Placemark>\n        <name>Castle in the Mountains (Austria)\n</name>\n        <description><![CDATA[<a href=\"https://www.youtube.com/watch?v=DUqk9XmZpnw\"><img src=\"https://img.youtube.com/vi/DUqk9XmZpnw/hqdefault.jpg\" height=\"200\" width=\"auto\" /></a><br><br><a href=\"https://www.youtube.com/embed/DUqk9XmZpnw\">https://www.youtube.com/embed/DUqk9XmZpnw</a><br><br>]]></description>\n        <styleUrl>#icon-1731-E65100</styleUrl>\n        <ExtendedData>\n          <Data name=\"gx_media_links\">\n            <value>https://www.youtube.com/embed/DUqk9XmZpnw</value>\n          </Data>\n        </ExtendedData>\n        <Point>\n          <coordinates>\n            14.1490583,47.5561524,0\n          </coordinates>\n        </Point>\n      </Placemark>\n      <Placemark>\n        <name>Alpine Castle Ruins (Austrian)\n</name>\n        <description><![CDATA[<a href=\"https://www.youtube.com/watch?v=2dVRhkKsL3s\"><img src=\"https://img.youtube.com/vi/2dVRhkKsL3s/hqdefault.jpg\" height=\"200\" width=\"auto\" /></a><br><br><a href=\"https://www.youtube.com/embed/2dVRhkKsL3s\">https://www.youtube.com/embed/2dVRhkKsL3s</a><br><br>]]></description>\n        <styleUrl>#icon-1731-E65100</styleUrl>\n        <ExtendedData>\n          <Data name=\"gx_media_links\">\n            <value>https://www.youtube.com/embed/2dVRhkKsL3s</value>\n          </Data>\n        </ExtendedData>\n        <Point>\n          <coordinates>\n            14.6256603,47.6888212,0\n          </coordinates>\n        </Point>\n      </Placemark>\n      <Placemark>\n        <name>Walking Along Danube River (Austria)</name>\n        <description><![CDATA[<a href=\"https://www.youtube.com/watch?v=BEdvAK0QcPA\"><img src=\"https://img.youtube.com/vi/BEdvAK0QcPA/hqdefault.jpg\" height=\"200\" width=\"auto\" /></a><br><br><a href=\"https://www.youtube.com/embed/BEdvAK0QcPA\">https://www.youtube.com/embed/BEdvAK0QcPA</a><br><br>]]></description>\n        <styleUrl>#icon-1731-E65100</styleUrl>\n        <ExtendedData>\n          <Data name=\"gx_media_links\">\n            <value>https://www.youtube.com/embed/BEdvAK0QcPA</value>\n          </Data>\n        </ExtendedData>\n        <Point>\n          <coordinates>\n            15.6877108,48.3820938,0\n          </coordinates>\n        </Point>\n      </Placemark>\n      <Placemark>\n        <name>Forest Walk in Austria\n</name>\n        <description><![CDATA[<a href=\"https://www.youtube.com/watch?v=2pQTSrP6Mc8\"><img src=\"https://img.youtube.com/vi/2pQTSrP6Mc8/hqdefault.jpg\" height=\"200\" width=\"auto\" /></a><br><br><a href=\"https://www.youtube.com/embed/2pQTSrP6Mc8\">https://www.youtube.com/embed/2pQTSrP6Mc8</a><br><br>]]></description>\n        <styleUrl>#icon-1731-E65100</styleUrl>\n        <ExtendedData>\n          <Data name=\"gx_media_links\">\n            <value>https://www.youtube.com/embed/2pQTSrP6Mc8</value>\n          </Data>\n        </ExtendedData>\n        <Point>\n          <coordinates>\n            15.5589817,48.4161721,0\n          </coordinates>\n        </Point>\n      </Placemark>\n      <Placemark>\n        <name>Grundlsee (Austria)\n</name>\n        <description><![CDATA[<a href=\"https://www.youtube.com/watch?v=qE8EijabSo8\"><img src=\"https://img.youtube.com/vi/qE8EijabSo8/hqdefault.jpg\" height=\"200\" width=\"auto\" /></a><br><br><a href=\"https://www.youtube.com/embed/qE8EijabSo8\">https://www.youtube.com/embed/qE8EijabSo8</a><br><br>]]></description>\n        <styleUrl>#icon-1731-E65100</styleUrl>\n        <ExtendedData>\n          <Data name=\"gx_media_links\">\n            <value>https://www.youtube.com/embed/qE8EijabSo8</value>\n          </Data>\n        </ExtendedData>\n        <Point>\n          <coordinates>\n            13.9010128,47.6388074,0\n          </coordinates>\n        </Point>\n      </Placemark>\n      <Placemark>\n        <name>Kronsegg Castle Ruin (Austria)\n</name>\n        <description><![CDATA[<a href=\"https://www.youtube.com/watch?v=hgVhu4RtjjU\"><img src=\"https://img.youtube.com/vi/hgVhu4RtjjU/hqdefault.jpg\" height=\"200\" width=\"auto\" /></a><br><br><a href=\"https://www.youtube.com/embed/hgVhu4RtjjU\">https://www.youtube.com/embed/hgVhu4RtjjU</a><br><br>]]></description>\n        <styleUrl>#icon-1731-E65100</styleUrl>\n        <ExtendedData>\n          <Data name=\"gx_media_links\">\n            <value>https://www.youtube.com/embed/hgVhu4RtjjU</value>\n          </Data>\n        </ExtendedData>\n        <Point>\n          <coordinates>\n            15.6067339,48.5102007,0\n          </coordinates>\n        </Point>\n      </Placemark>\n      <Placemark>\n        <name>Schönbrunn Palace Gardens, Vienna (Austria)</name>\n        <description><![CDATA[<a href=\"https://www.youtube.com/watch?v=wQpGvYNdcuY\"><img src=\"https://img.youtube.com/vi/wQpGvYNdcuY/hqdefault.jpg\" height=\"200\" width=\"auto\" /></a><br><br><a href=\"https://www.youtube.com/embed/wQpGvYNdcuY\">https://www.youtube.com/embed/wQpGvYNdcuY</a><br><br>]]></description>\n        <styleUrl>#icon-1731-E65100</styleUrl>\n        <ExtendedData>\n          <Data name=\"gx_media_links\">\n            <value>https://www.youtube.com/embed/wQpGvYNdcuY</value>\n          </Data>\n        </ExtendedData>\n        <Point>\n          <coordinates>\n            16.3130707,48.1863343,0\n          </coordinates>\n        </Point>\n      </Placemark>\n      <Placemark>\n        <name><![CDATA[Castle Ruin on Emperor's Hill (Austria)\n]]></name>\n        <description><![CDATA[<a href=\"https://www.youtube.com/watch?v=f_2gUMnVi3I\"><img src=\"https://img.youtube.com/vi/f_2gUMnVi3I/hqdefault.jpg\" height=\"200\" width=\"auto\" /></a><br><br><a href=\"https://www.youtube.com/embed/f_2gUMnVi3I\">https://www.youtube.com/embed/f_2gUMnVi3I</a><br><br>]]></description>\n        <styleUrl>#icon-1731-E65100</styleUrl>\n        <ExtendedData>\n          <Data name=\"gx_media_links\">\n            <value>https://www.youtube.com/embed/f_2gUMnVi3I</value>\n          </Data>\n        </ExtendedData>\n        <Point>\n          <coordinates>\n            14.9795319,47.3359807,0\n          </coordinates>\n        </Point>\n      </Placemark>\n      <Placemark>\n        <name>Walk Along Yangtze River (China)</name>\n        <description><![CDATA[<a href=\"https://www.youtube.com/watch?v=pRl7vr5jzwc\"><img src=\"https://img.youtube.com/vi/pRl7vr5jzwc/hqdefault.jpg\" height=\"200\" width=\"auto\" /></a><br><br><a href=\"https://www.youtube.com/embed/pRl7vr5jzwc\">https://www.youtube.com/embed/pRl7vr5jzwc</a><br><br>]]></description>\n        <styleUrl>#icon-1731-E65100</styleUrl>\n        <ExtendedData>\n          <Data name=\"gx_media_links\">\n            <value>https://www.youtube.com/embed/pRl7vr5jzwc</value>\n          </Data>\n        </ExtendedData>\n        <Point>\n          <coordinates>\n            111.2796043,30.6965023,0\n          </coordinates>\n        </Point>\n      </Placemark>\n      <Placemark>\n        <name>Night Market in Yichang (China)\n</name>\n        <description><![CDATA[<a href=\"https://www.youtube.com/watch?v=rzZid1P4LGk\"><img src=\"https://img.youtube.com/vi/rzZid1P4LGk/hqdefault.jpg\" height=\"200\" width=\"auto\" /></a><br><br><a href=\"https://www.youtube.com/embed/rzZid1P4LGk\">https://www.youtube.com/embed/rzZid1P4LGk</a><br><br>]]></description>\n        <styleUrl>#icon-1731-E65100</styleUrl>\n        <ExtendedData>\n          <Data name=\"gx_media_links\">\n            <value>https://www.youtube.com/embed/rzZid1P4LGk</value>\n          </Data>\n        </ExtendedData>\n        <Point>\n          <coordinates>\n            111.2814607,30.6975678,0\n          </coordinates>\n        </Point>\n      </Placemark>\n      <Placemark>\n        <name>Göttweig Abbey (Austria)</name>\n        <description><![CDATA[<a href=\"https://www.youtube.com/watch?v=goIkw1GCgLE\"><img src=\"https://img.youtube.com/vi/goIkw1GCgLE/hqdefault.jpg\" height=\"200\" width=\"auto\" /></a><br><br><a href=\"https://www.youtube.com/embed/goIkw1GCgLE\">https://www.youtube.com/embed/goIkw1GCgLE</a><br><br>]]></description>\n        <styleUrl>#icon-1731-E65100</styleUrl>\n        <ExtendedData>\n          <Data name=\"gx_media_links\">\n            <value>https://www.youtube.com/embed/goIkw1GCgLE</value>\n          </Data>\n        </ExtendedData>\n        <Point>\n          <coordinates>\n            15.6131161,48.3722366,0\n          </coordinates>\n        </Point>\n      </Placemark>\n      <Placemark>\n        <name>Chinese Park Life (China)</name>\n        <description><![CDATA[<a href=\"https://www.youtube.com/watch?v=KN3JYsRzTKM\"><img src=\"https://img.youtube.com/vi/KN3JYsRzTKM/hqdefault.jpg\" height=\"200\" width=\"auto\" /></a><br><br><a href=\"https://www.youtube.com/embed/KN3JYsRzTKM\">https://www.youtube.com/embed/KN3JYsRzTKM</a><br><br>]]></description>\n        <styleUrl>#icon-1731-E65100</styleUrl>\n        <ExtendedData>\n          <Data name=\"gx_media_links\">\n            <value>https://www.youtube.com/embed/KN3JYsRzTKM</value>\n          </Data>\n        </ExtendedData>\n        <Point>\n          <coordinates>\n            111.2765198,30.7023009,0\n          </coordinates>\n        </Point>\n      </Placemark>\n      <Placemark>\n        <name>Mountain Goats and Fantastiv View</name>\n        <description><![CDATA[<a href=\"https://www.youtube.com/watch?v=GTfTHXINW_0\"><img src=\"https://img.youtube.com/vi/GTfTHXINW_0/hqdefault.jpg\" height=\"200\" width=\"auto\" /></a><br><br><a href=\"https://www.youtube.com/embed/GTfTHXINW_0\">https://www.youtube.com/embed/GTfTHXINW_0</a><br><br>]]></description>\n        <styleUrl>#icon-1731-E65100</styleUrl>\n        <ExtendedData>\n          <Data name=\"gx_media_links\">\n            <value>https://www.youtube.com/embed/GTfTHXINW_0</value>\n          </Data>\n        </ExtendedData>\n        <Point>\n          <coordinates>\n            16.1481611,47.6826365,0\n          </coordinates>\n        </Point>\n      </Placemark>\n      <Placemark>\n        <name>Beautiful River Walking</name>\n        <description><![CDATA[<a href=\"https://www.youtube.com/watch?v=dzW_7sxI8XI\"><img src=\"https://img.youtube.com/vi/dzW_7sxI8XI/hqdefault.jpg\" height=\"200\" width=\"auto\" /></a><br><br><a href=\"https://www.youtube.com/embed/dzW_7sxI8XI\">https://www.youtube.com/embed/dzW_7sxI8XI</a><br><br>]]></description>\n        <styleUrl>#icon-1731-E65100</styleUrl>\n        <ExtendedData>\n          <Data name=\"gx_media_links\">\n            <value>https://www.youtube.com/embed/dzW_7sxI8XI</value>\n          </Data>\n        </ExtendedData>\n        <Point>\n          <coordinates>\n            16.1712716,48.0137532,0\n          </coordinates>\n        </Point>\n      </Placemark>\n      <Placemark>\n        <name>Exploring Beautiful Medieval City in Europe</name>\n        <description><![CDATA[<a href=\"https://www.youtube.com/watch?v=GcFMi0R2Qh0\"><img src=\"https://img.youtube.com/vi/GcFMi0R2Qh0/hqdefault.jpg\" height=\"200\" width=\"auto\" /></a><br><br><a href=\"https://www.youtube.com/embed/GcFMi0R2Qh0\">https://www.youtube.com/embed/GcFMi0R2Qh0</a><br><br>]]></description>\n        <styleUrl>#icon-1731-E65100</styleUrl>\n        <ExtendedData>\n          <Data name=\"gx_media_links\">\n            <value>https://www.youtube.com/embed/GcFMi0R2Qh0</value>\n          </Data>\n        </ExtendedData>\n        <Point>\n          <coordinates>\n            15.5827905,48.4021921,0\n          </coordinates>\n        </Point>\n      </Placemark>\n      <Placemark>\n        <name>Food Court in China</name>\n        <description><![CDATA[<a href=\"https://www.youtube.com/watch?v=nhEJbaWZUXE\"><img src=\"https://img.youtube.com/vi/nhEJbaWZUXE/hqdefault.jpg\" height=\"200\" width=\"auto\" /></a><br><br><a href=\"https://www.youtube.com/embed/nhEJbaWZUXE\">https://www.youtube.com/embed/nhEJbaWZUXE</a><br><br>]]></description>\n        <styleUrl>#icon-1731-E65100</styleUrl>\n        <ExtendedData>\n          <Data name=\"gx_media_links\">\n            <value>https://www.youtube.com/embed/nhEJbaWZUXE</value>\n          </Data>\n        </ExtendedData>\n        <Point>\n          <coordinates>\n            111.2870513,30.7024035,0\n          </coordinates>\n        </Point>\n      </Placemark>\n    </Folder>\n  </Document>\n</kml>\n"
     ]
    }
   ],
   "source": [
    "#dumped die ganze Datei\n",
    "ET.dump(root) "
   ]
  },
  {
   "cell_type": "code",
   "execution_count": 34,
   "metadata": {
    "tags": []
   },
   "outputs": [],
   "source": [
    "#gibt Videotitel aus\n",
    "# for i in root.findall('.//{http://www.opengis.net/kml/2.2}name'):\n",
    "#     print(i.text)"
   ]
  }
 ]
}